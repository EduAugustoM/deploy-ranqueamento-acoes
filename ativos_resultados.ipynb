{
 "cells": [
  {
   "cell_type": "code",
   "execution_count": 5,
   "metadata": {},
   "outputs": [
    {
     "name": "stdout",
     "output_type": "stream",
     "text": [
      "Resultados salvos em 'resultado.txt'\n"
     ]
    }
   ],
   "source": [
    "import pandas as pd\n",
    "\n",
    "# Carregar o arquivo CSV\n",
    "df = pd.read_csv('altas_e_baixas.csv')\n",
    "\n",
    "# Extrair e formatar a coluna 'Ativo' diretamente\n",
    "ativos_formatados = [f\"{linha}.SA\" for linha in df['Ativo'].astype(str)]\n",
    "\n",
    "# Criar a string no formato de lista\n",
    "resultado_str = str(ativos_formatados)\n",
    "\n",
    "# Salvar os dados formatados em um novo arquivo\n",
    "with open('resultado.txt', 'w') as arquivo:\n",
    "    arquivo.write(resultado_str)\n",
    "\n",
    "print(\"Resultados salvos em 'resultado.txt'\")\n"
   ]
  }
 ],
 "metadata": {
  "kernelspec": {
   "display_name": "Python 3",
   "language": "python",
   "name": "python3"
  },
  "language_info": {
   "codemirror_mode": {
    "name": "ipython",
    "version": 3
   },
   "file_extension": ".py",
   "mimetype": "text/x-python",
   "name": "python",
   "nbconvert_exporter": "python",
   "pygments_lexer": "ipython3",
   "version": "3.8.10"
  }
 },
 "nbformat": 4,
 "nbformat_minor": 2
}
